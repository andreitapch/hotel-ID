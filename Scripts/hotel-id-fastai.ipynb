{
 "cells": [
  {
   "cell_type": "code",
   "execution_count": 1,
   "id": "dense-decimal",
   "metadata": {
    "execution": {
     "iopub.execute_input": "2021-05-19T23:22:44.084339Z",
     "iopub.status.busy": "2021-05-19T23:22:44.083678Z",
     "iopub.status.idle": "2021-05-19T23:22:44.120256Z",
     "shell.execute_reply": "2021-05-19T23:22:44.119540Z",
     "shell.execute_reply.started": "2021-05-19T23:17:25.363896Z"
    },
    "papermill": {
     "duration": 0.071158,
     "end_time": "2021-05-19T23:22:44.120421",
     "exception": false,
     "start_time": "2021-05-19T23:22:44.049263",
     "status": "completed"
    },
    "tags": []
   },
   "outputs": [],
   "source": [
    "%reload_ext autoreload\n",
    "%autoreload 2\n",
    "%matplotlib inline"
   ]
  },
  {
   "cell_type": "code",
   "execution_count": 2,
   "id": "retained-overhead",
   "metadata": {
    "execution": {
     "iopub.execute_input": "2021-05-19T23:22:44.165829Z",
     "iopub.status.busy": "2021-05-19T23:22:44.164756Z",
     "iopub.status.idle": "2021-05-19T23:22:46.805517Z",
     "shell.execute_reply": "2021-05-19T23:22:46.806055Z",
     "shell.execute_reply.started": "2021-05-19T23:17:25.499475Z"
    },
    "papermill": {
     "duration": 2.666111,
     "end_time": "2021-05-19T23:22:46.806225",
     "exception": false,
     "start_time": "2021-05-19T23:22:44.140114",
     "status": "completed"
    },
    "tags": []
   },
   "outputs": [],
   "source": [
    "import os\n",
    "import torch\n",
    "import numpy as np\n",
    "import pandas as pd\n",
    "\n",
    "import matplotlib.pyplot as plt\n",
    "import seaborn as sns\n",
    "import fastai\n",
    "\n",
    "from fastai.imports import *\n",
    "from fastai.vision import *\n",
    "from fastai.vision.all import *\n",
    "from fastai.metrics import error_rate, accuracy"
   ]
  },
  {
   "cell_type": "code",
   "execution_count": 3,
   "id": "intense-utilization",
   "metadata": {
    "execution": {
     "iopub.execute_input": "2021-05-19T23:22:46.850649Z",
     "iopub.status.busy": "2021-05-19T23:22:46.849666Z",
     "iopub.status.idle": "2021-05-19T23:22:46.889676Z",
     "shell.execute_reply": "2021-05-19T23:22:46.890201Z",
     "shell.execute_reply.started": "2021-05-19T23:17:25.632126Z"
    },
    "papermill": {
     "duration": 0.064682,
     "end_time": "2021-05-19T23:22:46.890406",
     "exception": false,
     "start_time": "2021-05-19T23:22:46.825724",
     "status": "completed"
    },
    "tags": []
   },
   "outputs": [],
   "source": [
    "## Defining Directories\n",
    "work_dir = Path('/kaggle/working/')\n",
    "path = Path('../input/hotel-id-2021-fgvc8')\n",
    "train = path/ '/train_images'\n",
    "test =  path/'/test_images'\n",
    "\n",
    "## csv\n",
    "sample_sub = path/'sample_submission.csv'\n",
    "labels = path/'train.csv'"
   ]
  },
  {
   "cell_type": "code",
   "execution_count": 4,
   "id": "macro-adult",
   "metadata": {
    "execution": {
     "iopub.execute_input": "2021-05-19T23:22:46.934160Z",
     "iopub.status.busy": "2021-05-19T23:22:46.933223Z",
     "iopub.status.idle": "2021-05-19T23:22:47.236960Z",
     "shell.execute_reply": "2021-05-19T23:22:47.236301Z",
     "shell.execute_reply.started": "2021-05-19T23:17:25.763766Z"
    },
    "papermill": {
     "duration": 0.3272,
     "end_time": "2021-05-19T23:22:47.237107",
     "exception": false,
     "start_time": "2021-05-19T23:22:46.909907",
     "status": "completed"
    },
    "tags": []
   },
   "outputs": [
    {
     "data": {
      "text/html": [
       "<div>\n",
       "<style scoped>\n",
       "    .dataframe tbody tr th:only-of-type {\n",
       "        vertical-align: middle;\n",
       "    }\n",
       "\n",
       "    .dataframe tbody tr th {\n",
       "        vertical-align: top;\n",
       "    }\n",
       "\n",
       "    .dataframe thead th {\n",
       "        text-align: right;\n",
       "    }\n",
       "</style>\n",
       "<table border=\"1\" class=\"dataframe\">\n",
       "  <thead>\n",
       "    <tr style=\"text-align: right;\">\n",
       "      <th></th>\n",
       "      <th>image</th>\n",
       "      <th>chain</th>\n",
       "      <th>hotel_id</th>\n",
       "      <th>timestamp</th>\n",
       "    </tr>\n",
       "  </thead>\n",
       "  <tbody>\n",
       "    <tr>\n",
       "      <th>0</th>\n",
       "      <td>8000d59f6a3d765f.jpg</td>\n",
       "      <td>85</td>\n",
       "      <td>24607</td>\n",
       "      <td>2018-11-28 05:42:31</td>\n",
       "    </tr>\n",
       "    <tr>\n",
       "      <th>1</th>\n",
       "      <td>8000febe81817f7f.jpg</td>\n",
       "      <td>6</td>\n",
       "      <td>25389</td>\n",
       "      <td>2017-01-01 07:01:46</td>\n",
       "    </tr>\n",
       "    <tr>\n",
       "      <th>2</th>\n",
       "      <td>80053befc2d42fba.jpg</td>\n",
       "      <td>3</td>\n",
       "      <td>672</td>\n",
       "      <td>2018-01-26 13:22:07</td>\n",
       "    </tr>\n",
       "    <tr>\n",
       "      <th>3</th>\n",
       "      <td>8007fa0a8fe89f9d.jpg</td>\n",
       "      <td>5</td>\n",
       "      <td>63866</td>\n",
       "      <td>2020-07-03 02:31:31</td>\n",
       "    </tr>\n",
       "    <tr>\n",
       "      <th>4</th>\n",
       "      <td>800a4a6b6f6d2df6.jpg</td>\n",
       "      <td>0</td>\n",
       "      <td>12036</td>\n",
       "      <td>2017-09-22 17:59:22</td>\n",
       "    </tr>\n",
       "  </tbody>\n",
       "</table>\n",
       "</div>"
      ],
      "text/plain": [
       "                  image  chain  hotel_id            timestamp\n",
       "0  8000d59f6a3d765f.jpg     85     24607  2018-11-28 05:42:31\n",
       "1  8000febe81817f7f.jpg      6     25389  2017-01-01 07:01:46\n",
       "2  80053befc2d42fba.jpg      3       672  2018-01-26 13:22:07\n",
       "3  8007fa0a8fe89f9d.jpg      5     63866  2020-07-03 02:31:31\n",
       "4  800a4a6b6f6d2df6.jpg      0     12036  2017-09-22 17:59:22"
      ]
     },
     "execution_count": 4,
     "metadata": {},
     "output_type": "execute_result"
    }
   ],
   "source": [
    "train_data = pd.read_csv(labels)\n",
    "train_data.head(5)"
   ]
  },
  {
   "cell_type": "code",
   "execution_count": 5,
   "id": "metallic-symposium",
   "metadata": {
    "execution": {
     "iopub.execute_input": "2021-05-19T23:22:47.282968Z",
     "iopub.status.busy": "2021-05-19T23:22:47.281982Z",
     "iopub.status.idle": "2021-05-19T23:22:47.334791Z",
     "shell.execute_reply": "2021-05-19T23:22:47.334170Z",
     "shell.execute_reply.started": "2021-05-19T23:17:26.088152Z"
    },
    "papermill": {
     "duration": 0.077578,
     "end_time": "2021-05-19T23:22:47.334944",
     "exception": false,
     "start_time": "2021-05-19T23:22:47.257366",
     "status": "completed"
    },
    "tags": []
   },
   "outputs": [
    {
     "data": {
      "text/html": [
       "<div>\n",
       "<style scoped>\n",
       "    .dataframe tbody tr th:only-of-type {\n",
       "        vertical-align: middle;\n",
       "    }\n",
       "\n",
       "    .dataframe tbody tr th {\n",
       "        vertical-align: top;\n",
       "    }\n",
       "\n",
       "    .dataframe thead th {\n",
       "        text-align: right;\n",
       "    }\n",
       "</style>\n",
       "<table border=\"1\" class=\"dataframe\">\n",
       "  <thead>\n",
       "    <tr style=\"text-align: right;\">\n",
       "      <th></th>\n",
       "      <th>image</th>\n",
       "      <th>hotel_id</th>\n",
       "    </tr>\n",
       "  </thead>\n",
       "  <tbody>\n",
       "    <tr>\n",
       "      <th>0</th>\n",
       "      <td>99e91ad5f2870678.jpg</td>\n",
       "      <td>36363 53586 18807 64314 60181</td>\n",
       "    </tr>\n",
       "    <tr>\n",
       "      <th>1</th>\n",
       "      <td>b5cc62ab665591a9.jpg</td>\n",
       "      <td>36363 53586 18807 64314 60181</td>\n",
       "    </tr>\n",
       "    <tr>\n",
       "      <th>2</th>\n",
       "      <td>d5664a972d5a644b.jpg</td>\n",
       "      <td>36363 53586 18807 64314 60181</td>\n",
       "    </tr>\n",
       "  </tbody>\n",
       "</table>\n",
       "</div>"
      ],
      "text/plain": [
       "                  image                       hotel_id\n",
       "0  99e91ad5f2870678.jpg  36363 53586 18807 64314 60181\n",
       "1  b5cc62ab665591a9.jpg  36363 53586 18807 64314 60181\n",
       "2  d5664a972d5a644b.jpg  36363 53586 18807 64314 60181"
      ]
     },
     "execution_count": 5,
     "metadata": {},
     "output_type": "execute_result"
    }
   ],
   "source": [
    "sample_sub = pd.read_csv(sample_sub)\n",
    "sample_sub.head(5)"
   ]
  },
  {
   "cell_type": "code",
   "execution_count": 6,
   "id": "palestinian-victim",
   "metadata": {
    "execution": {
     "iopub.execute_input": "2021-05-19T23:22:47.379878Z",
     "iopub.status.busy": "2021-05-19T23:22:47.379279Z",
     "iopub.status.idle": "2021-05-19T23:22:47.417330Z",
     "shell.execute_reply": "2021-05-19T23:22:47.417808Z",
     "shell.execute_reply.started": "2021-05-19T23:17:26.228779Z"
    },
    "papermill": {
     "duration": 0.062531,
     "end_time": "2021-05-19T23:22:47.417999",
     "exception": false,
     "start_time": "2021-05-19T23:22:47.355468",
     "status": "completed"
    },
    "tags": []
   },
   "outputs": [],
   "source": [
    "# !tar xzvf /kaggle/input/hotelid-224/kaggle_hotelid_train_imgs_224x224.tgz"
   ]
  },
  {
   "cell_type": "code",
   "execution_count": 7,
   "id": "nervous-identifier",
   "metadata": {
    "execution": {
     "iopub.execute_input": "2021-05-19T23:22:47.461852Z",
     "iopub.status.busy": "2021-05-19T23:22:47.461236Z",
     "iopub.status.idle": "2021-05-19T23:22:47.820861Z",
     "shell.execute_reply": "2021-05-19T23:22:47.821399Z",
     "shell.execute_reply.started": "2021-05-19T23:17:26.357554Z"
    },
    "papermill": {
     "duration": 0.38319,
     "end_time": "2021-05-19T23:22:47.821591",
     "exception": false,
     "start_time": "2021-05-19T23:22:47.438401",
     "status": "completed"
    },
    "tags": []
   },
   "outputs": [
    {
     "data": {
      "text/html": [
       "<div>\n",
       "<style scoped>\n",
       "    .dataframe tbody tr th:only-of-type {\n",
       "        vertical-align: middle;\n",
       "    }\n",
       "\n",
       "    .dataframe tbody tr th {\n",
       "        vertical-align: top;\n",
       "    }\n",
       "\n",
       "    .dataframe thead th {\n",
       "        text-align: right;\n",
       "    }\n",
       "</style>\n",
       "<table border=\"1\" class=\"dataframe\">\n",
       "  <thead>\n",
       "    <tr style=\"text-align: right;\">\n",
       "      <th></th>\n",
       "      <th>image</th>\n",
       "      <th>chain</th>\n",
       "      <th>hotel_id</th>\n",
       "      <th>timestamp</th>\n",
       "      <th>chain_image</th>\n",
       "    </tr>\n",
       "  </thead>\n",
       "  <tbody>\n",
       "    <tr>\n",
       "      <th>0</th>\n",
       "      <td>8000d59f6a3d765f.jpg</td>\n",
       "      <td>85</td>\n",
       "      <td>24607</td>\n",
       "      <td>2018-11-28 05:42:31</td>\n",
       "      <td>./kaggle/working/train/85/8000d59f6a3d765f.jpg</td>\n",
       "    </tr>\n",
       "    <tr>\n",
       "      <th>1</th>\n",
       "      <td>8000febe81817f7f.jpg</td>\n",
       "      <td>6</td>\n",
       "      <td>25389</td>\n",
       "      <td>2017-01-01 07:01:46</td>\n",
       "      <td>./kaggle/working/train/6/8000febe81817f7f.jpg</td>\n",
       "    </tr>\n",
       "    <tr>\n",
       "      <th>2</th>\n",
       "      <td>80053befc2d42fba.jpg</td>\n",
       "      <td>3</td>\n",
       "      <td>672</td>\n",
       "      <td>2018-01-26 13:22:07</td>\n",
       "      <td>./kaggle/working/train/3/80053befc2d42fba.jpg</td>\n",
       "    </tr>\n",
       "  </tbody>\n",
       "</table>\n",
       "</div>"
      ],
      "text/plain": [
       "                  image  chain hotel_id            timestamp  \\\n",
       "0  8000d59f6a3d765f.jpg     85    24607  2018-11-28 05:42:31   \n",
       "1  8000febe81817f7f.jpg      6    25389  2017-01-01 07:01:46   \n",
       "2  80053befc2d42fba.jpg      3      672  2018-01-26 13:22:07   \n",
       "\n",
       "                                      chain_image  \n",
       "0  ./kaggle/working/train/85/8000d59f6a3d765f.jpg  \n",
       "1   ./kaggle/working/train/6/8000febe81817f7f.jpg  \n",
       "2   ./kaggle/working/train/3/80053befc2d42fba.jpg  "
      ]
     },
     "execution_count": 7,
     "metadata": {},
     "output_type": "execute_result"
    }
   ],
   "source": [
    "train_dir= './kaggle/working/train/'\n",
    "train_data['chain_image'] = train_dir + train_data['chain'].astype(str) + '/' + train_data['image'].astype(str)\n",
    "\n",
    "train_data['hotel_id'] = train_data['hotel_id'].astype(str)\n",
    "train_data[:3]\n"
   ]
  },
  {
   "cell_type": "code",
   "execution_count": 8,
   "id": "changed-garden",
   "metadata": {
    "execution": {
     "iopub.execute_input": "2021-05-19T23:22:47.870001Z",
     "iopub.status.busy": "2021-05-19T23:22:47.869306Z",
     "iopub.status.idle": "2021-05-19T23:22:47.942923Z",
     "shell.execute_reply": "2021-05-19T23:22:47.943443Z",
     "shell.execute_reply.started": "2021-05-19T23:17:26.82943Z"
    },
    "papermill": {
     "duration": 0.100516,
     "end_time": "2021-05-19T23:22:47.943614",
     "exception": false,
     "start_time": "2021-05-19T23:22:47.843098",
     "status": "completed"
    },
    "tags": []
   },
   "outputs": [
    {
     "name": "stderr",
     "output_type": "stream",
     "text": [
      "/opt/conda/lib/python3.7/site-packages/ipykernel_launcher.py:2: SettingWithCopyWarning: \n",
      "A value is trying to be set on a copy of a slice from a DataFrame.\n",
      "Try using .loc[row_indexer,col_indexer] = value instead\n",
      "\n",
      "See the caveats in the documentation: https://pandas.pydata.org/pandas-docs/stable/user_guide/indexing.html#returning-a-view-versus-a-copy\n",
      "  \n"
     ]
    },
    {
     "data": {
      "text/html": [
       "<div>\n",
       "<style scoped>\n",
       "    .dataframe tbody tr th:only-of-type {\n",
       "        vertical-align: middle;\n",
       "    }\n",
       "\n",
       "    .dataframe tbody tr th {\n",
       "        vertical-align: top;\n",
       "    }\n",
       "\n",
       "    .dataframe thead th {\n",
       "        text-align: right;\n",
       "    }\n",
       "</style>\n",
       "<table border=\"1\" class=\"dataframe\">\n",
       "  <thead>\n",
       "    <tr style=\"text-align: right;\">\n",
       "      <th></th>\n",
       "      <th>image</th>\n",
       "      <th>chain</th>\n",
       "      <th>hotel_id</th>\n",
       "      <th>timestamp</th>\n",
       "      <th>chain_image</th>\n",
       "    </tr>\n",
       "  </thead>\n",
       "  <tbody>\n",
       "    <tr>\n",
       "      <th>9</th>\n",
       "      <td>80196e6999ce63cf.jpg</td>\n",
       "      <td>90</td>\n",
       "      <td>55532</td>\n",
       "      <td>2020-06-16 02:46:59</td>\n",
       "      <td>./kaggle/working/train/90/80196e6999ce63cf.jpg</td>\n",
       "    </tr>\n",
       "    <tr>\n",
       "      <th>26</th>\n",
       "      <td>802b5ed622fd3587.jpg</td>\n",
       "      <td>90</td>\n",
       "      <td>35252</td>\n",
       "      <td>2020-02-04 02:05:29</td>\n",
       "      <td>./kaggle/working/train/90/802b5ed622fd3587.jpg</td>\n",
       "    </tr>\n",
       "    <tr>\n",
       "      <th>53</th>\n",
       "      <td>803be117a845fe9d.jpg</td>\n",
       "      <td>90</td>\n",
       "      <td>61942</td>\n",
       "      <td>2016-06-28 02:17:49</td>\n",
       "      <td>./kaggle/working/train/90/803be117a845fe9d.jpg</td>\n",
       "    </tr>\n",
       "  </tbody>\n",
       "</table>\n",
       "</div>"
      ],
      "text/plain": [
       "                   image  chain hotel_id            timestamp  \\\n",
       "9   80196e6999ce63cf.jpg     90    55532  2020-06-16 02:46:59   \n",
       "26  802b5ed622fd3587.jpg     90    35252  2020-02-04 02:05:29   \n",
       "53  803be117a845fe9d.jpg     90    61942  2016-06-28 02:17:49   \n",
       "\n",
       "                                       chain_image  \n",
       "9   ./kaggle/working/train/90/80196e6999ce63cf.jpg  \n",
       "26  ./kaggle/working/train/90/802b5ed622fd3587.jpg  \n",
       "53  ./kaggle/working/train/90/803be117a845fe9d.jpg  "
      ]
     },
     "execution_count": 8,
     "metadata": {},
     "output_type": "execute_result"
    }
   ],
   "source": [
    "train_subset = train_data.loc[train_data['chain']==90]\n",
    "train_subset['hotel_id'] = train_subset['hotel_id'].astype(str)\n",
    "train_subset[:3]"
   ]
  },
  {
   "cell_type": "code",
   "execution_count": 9,
   "id": "subjective-calculation",
   "metadata": {
    "execution": {
     "iopub.execute_input": "2021-05-19T23:22:47.992105Z",
     "iopub.status.busy": "2021-05-19T23:22:47.991404Z",
     "iopub.status.idle": "2021-05-19T23:22:48.034103Z",
     "shell.execute_reply": "2021-05-19T23:22:48.034624Z",
     "shell.execute_reply.started": "2021-05-19T23:17:27.008088Z"
    },
    "papermill": {
     "duration": 0.069448,
     "end_time": "2021-05-19T23:22:48.034796",
     "exception": false,
     "start_time": "2021-05-19T23:22:47.965348",
     "status": "completed"
    },
    "tags": []
   },
   "outputs": [
    {
     "data": {
      "text/plain": [
       "270"
      ]
     },
     "execution_count": 9,
     "metadata": {},
     "output_type": "execute_result"
    }
   ],
   "source": [
    "classes = train_subset.hotel_id.unique()\n",
    "classes = list(classes)\n",
    "len(classes)"
   ]
  },
  {
   "cell_type": "code",
   "execution_count": 10,
   "id": "marine-venture",
   "metadata": {
    "execution": {
     "iopub.execute_input": "2021-05-19T23:22:48.082167Z",
     "iopub.status.busy": "2021-05-19T23:22:48.081374Z",
     "iopub.status.idle": "2021-05-19T23:22:48.120335Z",
     "shell.execute_reply": "2021-05-19T23:22:48.120841Z",
     "shell.execute_reply.started": "2021-05-19T23:17:27.146561Z"
    },
    "papermill": {
     "duration": 0.064422,
     "end_time": "2021-05-19T23:22:48.121071",
     "exception": false,
     "start_time": "2021-05-19T23:22:48.056649",
     "status": "completed"
    },
    "tags": []
   },
   "outputs": [],
   "source": [
    "# from distutils.dir_util import copy_tree\n",
    "# fromDir ='../input/submission'\n",
    "# toDir ='.'\n",
    "# copy_tree(fromDir, toDir)\n",
    "\n",
    "# sub = './submission.csv'\n",
    "# df = pd.read_csv(sub)\n",
    "# df.head(5)"
   ]
  },
  {
   "cell_type": "code",
   "execution_count": 11,
   "id": "labeled-operator",
   "metadata": {
    "execution": {
     "iopub.execute_input": "2021-05-19T23:22:48.168480Z",
     "iopub.status.busy": "2021-05-19T23:22:48.167837Z",
     "iopub.status.idle": "2021-05-19T23:22:48.206917Z",
     "shell.execute_reply": "2021-05-19T23:22:48.207509Z",
     "shell.execute_reply.started": "2021-05-19T23:17:27.279734Z"
    },
    "papermill": {
     "duration": 0.063914,
     "end_time": "2021-05-19T23:22:48.207683",
     "exception": false,
     "start_time": "2021-05-19T23:22:48.143769",
     "status": "completed"
    },
    "tags": []
   },
   "outputs": [],
   "source": [
    "# from distutils.dir_util import copy_tree\n",
    "# fromDir ='../input/hotel-id-2021-fgvc8/test_images'\n",
    "# toDir ='./kaggle/working/test_images'\n",
    "# copy_tree(fromDir, toDir)"
   ]
  },
  {
   "cell_type": "code",
   "execution_count": 12,
   "id": "combined-gospel",
   "metadata": {
    "execution": {
     "iopub.execute_input": "2021-05-19T23:22:48.255711Z",
     "iopub.status.busy": "2021-05-19T23:22:48.255113Z",
     "iopub.status.idle": "2021-05-19T23:22:48.293333Z",
     "shell.execute_reply": "2021-05-19T23:22:48.293844Z",
     "shell.execute_reply.started": "2021-05-19T23:17:27.411769Z"
    },
    "papermill": {
     "duration": 0.064294,
     "end_time": "2021-05-19T23:22:48.294047",
     "exception": false,
     "start_time": "2021-05-19T23:22:48.229753",
     "status": "completed"
    },
    "tags": []
   },
   "outputs": [],
   "source": [
    "# print(train_data['hotel_id'].value_counts().sort_values(ascending=False))"
   ]
  },
  {
   "cell_type": "code",
   "execution_count": 13,
   "id": "circular-lemon",
   "metadata": {
    "execution": {
     "iopub.execute_input": "2021-05-19T23:22:48.340689Z",
     "iopub.status.busy": "2021-05-19T23:22:48.340086Z",
     "iopub.status.idle": "2021-05-19T23:22:48.382228Z",
     "shell.execute_reply": "2021-05-19T23:22:48.381668Z",
     "shell.execute_reply.started": "2021-05-19T23:17:27.544219Z"
    },
    "papermill": {
     "duration": 0.066305,
     "end_time": "2021-05-19T23:22:48.382370",
     "exception": false,
     "start_time": "2021-05-19T23:22:48.316065",
     "status": "completed"
    },
    "tags": []
   },
   "outputs": [],
   "source": [
    "batch_size = 32\n",
    "def create_dataLoader(data_dir):\n",
    "    data = ImageDataLoaders.from_folder(data_dir,\n",
    "                                        train = 'train',\n",
    "                                        test= 'test_images',\n",
    "                                        valid_pct=0.2,\n",
    "                                        item_tfms=RandomResizedCrop(128, min_scale=0.35),\n",
    "                                        batch_tfms=aug_transforms(),\n",
    "                                        normalize =imagenet_stats,\n",
    "                                        bs=batch_size\n",
    "                                       )\n",
    "    return data"
   ]
  },
  {
   "cell_type": "markdown",
   "id": "subjective-usage",
   "metadata": {
    "papermill": {
     "duration": 0.021583,
     "end_time": "2021-05-19T23:22:48.425876",
     "exception": false,
     "start_time": "2021-05-19T23:22:48.404293",
     "status": "completed"
    },
    "tags": []
   },
   "source": [
    "## Creating a data Loader of the entire Dataset"
   ]
  },
  {
   "cell_type": "code",
   "execution_count": 14,
   "id": "continent-raising",
   "metadata": {
    "execution": {
     "iopub.execute_input": "2021-05-19T23:22:48.473852Z",
     "iopub.status.busy": "2021-05-19T23:22:48.473229Z",
     "iopub.status.idle": "2021-05-19T23:22:48.707095Z",
     "shell.execute_reply": "2021-05-19T23:22:48.708073Z",
     "shell.execute_reply.started": "2021-05-19T23:18:29.938219Z"
    },
    "papermill": {
     "duration": 0.260471,
     "end_time": "2021-05-19T23:22:48.708262",
     "exception": false,
     "start_time": "2021-05-19T23:22:48.447791",
     "status": "completed"
    },
    "tags": []
   },
   "outputs": [
    {
     "ename": "TypeError",
     "evalue": "'NoneType' object is not iterable",
     "output_type": "error",
     "traceback": [
      "\u001b[0;31m---------------------------------------------------------------------------\u001b[0m",
      "\u001b[0;31mTypeError\u001b[0m                                 Traceback (most recent call last)",
      "\u001b[0;32m<ipython-input-14-f64c480003f7>\u001b[0m in \u001b[0;36m<module>\u001b[0;34m\u001b[0m\n\u001b[1;32m      1\u001b[0m \u001b[0mfile_path\u001b[0m\u001b[0;34m=\u001b[0m\u001b[0;34m'./input/hotel-id-2021-fgvc8/train_images/90'\u001b[0m\u001b[0;34m\u001b[0m\u001b[0;34m\u001b[0m\u001b[0m\n\u001b[0;32m----> 2\u001b[0;31m \u001b[0mdata\u001b[0m \u001b[0;34m=\u001b[0m \u001b[0mcreate_dataLoader\u001b[0m\u001b[0;34m(\u001b[0m\u001b[0mwork_dir\u001b[0m\u001b[0;34m)\u001b[0m\u001b[0;34m\u001b[0m\u001b[0;34m\u001b[0m\u001b[0m\n\u001b[0m",
      "\u001b[0;32m<ipython-input-13-9b27bcdb0191>\u001b[0m in \u001b[0;36mcreate_dataLoader\u001b[0;34m(data_dir)\u001b[0m\n\u001b[1;32m      8\u001b[0m                                         \u001b[0mbatch_tfms\u001b[0m\u001b[0;34m=\u001b[0m\u001b[0maug_transforms\u001b[0m\u001b[0;34m(\u001b[0m\u001b[0;34m)\u001b[0m\u001b[0;34m,\u001b[0m\u001b[0;34m\u001b[0m\u001b[0;34m\u001b[0m\u001b[0m\n\u001b[1;32m      9\u001b[0m                                         \u001b[0mnormalize\u001b[0m \u001b[0;34m=\u001b[0m\u001b[0mimagenet_stats\u001b[0m\u001b[0;34m,\u001b[0m\u001b[0;34m\u001b[0m\u001b[0;34m\u001b[0m\u001b[0m\n\u001b[0;32m---> 10\u001b[0;31m                                         \u001b[0mbs\u001b[0m\u001b[0;34m=\u001b[0m\u001b[0mbatch_size\u001b[0m\u001b[0;34m\u001b[0m\u001b[0;34m\u001b[0m\u001b[0m\n\u001b[0m\u001b[1;32m     11\u001b[0m                                        )\n\u001b[1;32m     12\u001b[0m     \u001b[0;32mreturn\u001b[0m \u001b[0mdata\u001b[0m\u001b[0;34m\u001b[0m\u001b[0;34m\u001b[0m\u001b[0m\n",
      "\u001b[0;32m/opt/conda/lib/python3.7/site-packages/fastai/vision/data.py\u001b[0m in \u001b[0;36mfrom_folder\u001b[0;34m(cls, path, train, valid, valid_pct, seed, vocab, item_tfms, batch_tfms, **kwargs)\u001b[0m\n\u001b[1;32m     99\u001b[0m                            \u001b[0mitem_tfms\u001b[0m\u001b[0;34m=\u001b[0m\u001b[0mitem_tfms\u001b[0m\u001b[0;34m,\u001b[0m\u001b[0;34m\u001b[0m\u001b[0;34m\u001b[0m\u001b[0m\n\u001b[1;32m    100\u001b[0m                            batch_tfms=batch_tfms)\n\u001b[0;32m--> 101\u001b[0;31m         \u001b[0;32mreturn\u001b[0m \u001b[0mcls\u001b[0m\u001b[0;34m.\u001b[0m\u001b[0mfrom_dblock\u001b[0m\u001b[0;34m(\u001b[0m\u001b[0mdblock\u001b[0m\u001b[0;34m,\u001b[0m \u001b[0mpath\u001b[0m\u001b[0;34m,\u001b[0m \u001b[0mpath\u001b[0m\u001b[0;34m=\u001b[0m\u001b[0mpath\u001b[0m\u001b[0;34m,\u001b[0m \u001b[0;34m**\u001b[0m\u001b[0mkwargs\u001b[0m\u001b[0;34m)\u001b[0m\u001b[0;34m\u001b[0m\u001b[0;34m\u001b[0m\u001b[0m\n\u001b[0m\u001b[1;32m    102\u001b[0m \u001b[0;34m\u001b[0m\u001b[0m\n\u001b[1;32m    103\u001b[0m     \u001b[0;34m@\u001b[0m\u001b[0mclassmethod\u001b[0m\u001b[0;34m\u001b[0m\u001b[0;34m\u001b[0m\u001b[0m\n",
      "\u001b[0;32m/opt/conda/lib/python3.7/site-packages/fastai/data/core.py\u001b[0m in \u001b[0;36mfrom_dblock\u001b[0;34m(cls, dblock, source, path, bs, val_bs, shuffle, device, **kwargs)\u001b[0m\n\u001b[1;32m    193\u001b[0m     \u001b[0;34m@\u001b[0m\u001b[0mclassmethod\u001b[0m\u001b[0;34m\u001b[0m\u001b[0;34m\u001b[0m\u001b[0m\n\u001b[1;32m    194\u001b[0m     \u001b[0;32mdef\u001b[0m \u001b[0mfrom_dblock\u001b[0m\u001b[0;34m(\u001b[0m\u001b[0mcls\u001b[0m\u001b[0;34m,\u001b[0m \u001b[0mdblock\u001b[0m\u001b[0;34m,\u001b[0m \u001b[0msource\u001b[0m\u001b[0;34m,\u001b[0m \u001b[0mpath\u001b[0m\u001b[0;34m=\u001b[0m\u001b[0;34m'.'\u001b[0m\u001b[0;34m,\u001b[0m  \u001b[0mbs\u001b[0m\u001b[0;34m=\u001b[0m\u001b[0;36m64\u001b[0m\u001b[0;34m,\u001b[0m \u001b[0mval_bs\u001b[0m\u001b[0;34m=\u001b[0m\u001b[0;32mNone\u001b[0m\u001b[0;34m,\u001b[0m \u001b[0mshuffle\u001b[0m\u001b[0;34m=\u001b[0m\u001b[0;32mTrue\u001b[0m\u001b[0;34m,\u001b[0m \u001b[0mdevice\u001b[0m\u001b[0;34m=\u001b[0m\u001b[0;32mNone\u001b[0m\u001b[0;34m,\u001b[0m \u001b[0;34m**\u001b[0m\u001b[0mkwargs\u001b[0m\u001b[0;34m)\u001b[0m\u001b[0;34m:\u001b[0m\u001b[0;34m\u001b[0m\u001b[0;34m\u001b[0m\u001b[0m\n\u001b[0;32m--> 195\u001b[0;31m         \u001b[0;32mreturn\u001b[0m \u001b[0mdblock\u001b[0m\u001b[0;34m.\u001b[0m\u001b[0mdataloaders\u001b[0m\u001b[0;34m(\u001b[0m\u001b[0msource\u001b[0m\u001b[0;34m,\u001b[0m \u001b[0mpath\u001b[0m\u001b[0;34m=\u001b[0m\u001b[0mpath\u001b[0m\u001b[0;34m,\u001b[0m \u001b[0mbs\u001b[0m\u001b[0;34m=\u001b[0m\u001b[0mbs\u001b[0m\u001b[0;34m,\u001b[0m \u001b[0mval_bs\u001b[0m\u001b[0;34m=\u001b[0m\u001b[0mval_bs\u001b[0m\u001b[0;34m,\u001b[0m \u001b[0mshuffle\u001b[0m\u001b[0;34m=\u001b[0m\u001b[0mshuffle\u001b[0m\u001b[0;34m,\u001b[0m \u001b[0mdevice\u001b[0m\u001b[0;34m=\u001b[0m\u001b[0mdevice\u001b[0m\u001b[0;34m,\u001b[0m \u001b[0;34m**\u001b[0m\u001b[0mkwargs\u001b[0m\u001b[0;34m)\u001b[0m\u001b[0;34m\u001b[0m\u001b[0;34m\u001b[0m\u001b[0m\n\u001b[0m\u001b[1;32m    196\u001b[0m \u001b[0;34m\u001b[0m\u001b[0m\n\u001b[1;32m    197\u001b[0m     _docs=dict(__getitem__=\"Retrieve `DataLoader` at `i` (`0` is training, `1` is validation)\",\n",
      "\u001b[0;32m/opt/conda/lib/python3.7/site-packages/fastai/data/block.py\u001b[0m in \u001b[0;36mdataloaders\u001b[0;34m(self, source, path, verbose, **kwargs)\u001b[0m\n\u001b[1;32m    111\u001b[0m \u001b[0;34m\u001b[0m\u001b[0m\n\u001b[1;32m    112\u001b[0m     \u001b[0;32mdef\u001b[0m \u001b[0mdataloaders\u001b[0m\u001b[0;34m(\u001b[0m\u001b[0mself\u001b[0m\u001b[0;34m,\u001b[0m \u001b[0msource\u001b[0m\u001b[0;34m,\u001b[0m \u001b[0mpath\u001b[0m\u001b[0;34m=\u001b[0m\u001b[0;34m'.'\u001b[0m\u001b[0;34m,\u001b[0m \u001b[0mverbose\u001b[0m\u001b[0;34m=\u001b[0m\u001b[0;32mFalse\u001b[0m\u001b[0;34m,\u001b[0m \u001b[0;34m**\u001b[0m\u001b[0mkwargs\u001b[0m\u001b[0;34m)\u001b[0m\u001b[0;34m:\u001b[0m\u001b[0;34m\u001b[0m\u001b[0;34m\u001b[0m\u001b[0m\n\u001b[0;32m--> 113\u001b[0;31m         \u001b[0mdsets\u001b[0m \u001b[0;34m=\u001b[0m \u001b[0mself\u001b[0m\u001b[0;34m.\u001b[0m\u001b[0mdatasets\u001b[0m\u001b[0;34m(\u001b[0m\u001b[0msource\u001b[0m\u001b[0;34m,\u001b[0m \u001b[0mverbose\u001b[0m\u001b[0;34m=\u001b[0m\u001b[0mverbose\u001b[0m\u001b[0;34m)\u001b[0m\u001b[0;34m\u001b[0m\u001b[0;34m\u001b[0m\u001b[0m\n\u001b[0m\u001b[1;32m    114\u001b[0m         \u001b[0mkwargs\u001b[0m \u001b[0;34m=\u001b[0m \u001b[0;34m{\u001b[0m\u001b[0;34m**\u001b[0m\u001b[0mself\u001b[0m\u001b[0;34m.\u001b[0m\u001b[0mdls_kwargs\u001b[0m\u001b[0;34m,\u001b[0m \u001b[0;34m**\u001b[0m\u001b[0mkwargs\u001b[0m\u001b[0;34m,\u001b[0m \u001b[0;34m'verbose'\u001b[0m\u001b[0;34m:\u001b[0m \u001b[0mverbose\u001b[0m\u001b[0;34m}\u001b[0m\u001b[0;34m\u001b[0m\u001b[0;34m\u001b[0m\u001b[0m\n\u001b[1;32m    115\u001b[0m         \u001b[0;32mreturn\u001b[0m \u001b[0mdsets\u001b[0m\u001b[0;34m.\u001b[0m\u001b[0mdataloaders\u001b[0m\u001b[0;34m(\u001b[0m\u001b[0mpath\u001b[0m\u001b[0;34m=\u001b[0m\u001b[0mpath\u001b[0m\u001b[0;34m,\u001b[0m \u001b[0mafter_item\u001b[0m\u001b[0;34m=\u001b[0m\u001b[0mself\u001b[0m\u001b[0;34m.\u001b[0m\u001b[0mitem_tfms\u001b[0m\u001b[0;34m,\u001b[0m \u001b[0mafter_batch\u001b[0m\u001b[0;34m=\u001b[0m\u001b[0mself\u001b[0m\u001b[0;34m.\u001b[0m\u001b[0mbatch_tfms\u001b[0m\u001b[0;34m,\u001b[0m \u001b[0;34m**\u001b[0m\u001b[0mkwargs\u001b[0m\u001b[0;34m)\u001b[0m\u001b[0;34m\u001b[0m\u001b[0;34m\u001b[0m\u001b[0m\n",
      "\u001b[0;32m/opt/conda/lib/python3.7/site-packages/fastai/data/block.py\u001b[0m in \u001b[0;36mdatasets\u001b[0;34m(self, source, verbose)\u001b[0m\n\u001b[1;32m    108\u001b[0m         \u001b[0msplits\u001b[0m \u001b[0;34m=\u001b[0m \u001b[0;34m(\u001b[0m\u001b[0mself\u001b[0m\u001b[0;34m.\u001b[0m\u001b[0msplitter\u001b[0m \u001b[0;32mor\u001b[0m \u001b[0mRandomSplitter\u001b[0m\u001b[0;34m(\u001b[0m\u001b[0;34m)\u001b[0m\u001b[0;34m)\u001b[0m\u001b[0;34m(\u001b[0m\u001b[0mitems\u001b[0m\u001b[0;34m)\u001b[0m\u001b[0;34m\u001b[0m\u001b[0;34m\u001b[0m\u001b[0m\n\u001b[1;32m    109\u001b[0m         \u001b[0mpv\u001b[0m\u001b[0;34m(\u001b[0m\u001b[0;34mf\"{len(splits)} datasets of sizes {','.join([str(len(s)) for s in splits])}\"\u001b[0m\u001b[0;34m,\u001b[0m \u001b[0mverbose\u001b[0m\u001b[0;34m)\u001b[0m\u001b[0;34m\u001b[0m\u001b[0;34m\u001b[0m\u001b[0m\n\u001b[0;32m--> 110\u001b[0;31m         \u001b[0;32mreturn\u001b[0m \u001b[0mDatasets\u001b[0m\u001b[0;34m(\u001b[0m\u001b[0mitems\u001b[0m\u001b[0;34m,\u001b[0m \u001b[0mtfms\u001b[0m\u001b[0;34m=\u001b[0m\u001b[0mself\u001b[0m\u001b[0;34m.\u001b[0m\u001b[0m_combine_type_tfms\u001b[0m\u001b[0;34m(\u001b[0m\u001b[0;34m)\u001b[0m\u001b[0;34m,\u001b[0m \u001b[0msplits\u001b[0m\u001b[0;34m=\u001b[0m\u001b[0msplits\u001b[0m\u001b[0;34m,\u001b[0m \u001b[0mdl_type\u001b[0m\u001b[0;34m=\u001b[0m\u001b[0mself\u001b[0m\u001b[0;34m.\u001b[0m\u001b[0mdl_type\u001b[0m\u001b[0;34m,\u001b[0m \u001b[0mn_inp\u001b[0m\u001b[0;34m=\u001b[0m\u001b[0mself\u001b[0m\u001b[0;34m.\u001b[0m\u001b[0mn_inp\u001b[0m\u001b[0;34m,\u001b[0m \u001b[0mverbose\u001b[0m\u001b[0;34m=\u001b[0m\u001b[0mverbose\u001b[0m\u001b[0;34m)\u001b[0m\u001b[0;34m\u001b[0m\u001b[0;34m\u001b[0m\u001b[0m\n\u001b[0m\u001b[1;32m    111\u001b[0m \u001b[0;34m\u001b[0m\u001b[0m\n\u001b[1;32m    112\u001b[0m     \u001b[0;32mdef\u001b[0m \u001b[0mdataloaders\u001b[0m\u001b[0;34m(\u001b[0m\u001b[0mself\u001b[0m\u001b[0;34m,\u001b[0m \u001b[0msource\u001b[0m\u001b[0;34m,\u001b[0m \u001b[0mpath\u001b[0m\u001b[0;34m=\u001b[0m\u001b[0;34m'.'\u001b[0m\u001b[0;34m,\u001b[0m \u001b[0mverbose\u001b[0m\u001b[0;34m=\u001b[0m\u001b[0;32mFalse\u001b[0m\u001b[0;34m,\u001b[0m \u001b[0;34m**\u001b[0m\u001b[0mkwargs\u001b[0m\u001b[0;34m)\u001b[0m\u001b[0;34m:\u001b[0m\u001b[0;34m\u001b[0m\u001b[0;34m\u001b[0m\u001b[0m\n",
      "\u001b[0;32m/opt/conda/lib/python3.7/site-packages/fastai/data/core.py\u001b[0m in \u001b[0;36m__init__\u001b[0;34m(self, items, tfms, tls, n_inp, dl_type, **kwargs)\u001b[0m\n\u001b[1;32m    329\u001b[0m     \u001b[0;32mdef\u001b[0m \u001b[0m__init__\u001b[0m\u001b[0;34m(\u001b[0m\u001b[0mself\u001b[0m\u001b[0;34m,\u001b[0m \u001b[0mitems\u001b[0m\u001b[0;34m=\u001b[0m\u001b[0;32mNone\u001b[0m\u001b[0;34m,\u001b[0m \u001b[0mtfms\u001b[0m\u001b[0;34m=\u001b[0m\u001b[0;32mNone\u001b[0m\u001b[0;34m,\u001b[0m \u001b[0mtls\u001b[0m\u001b[0;34m=\u001b[0m\u001b[0;32mNone\u001b[0m\u001b[0;34m,\u001b[0m \u001b[0mn_inp\u001b[0m\u001b[0;34m=\u001b[0m\u001b[0;32mNone\u001b[0m\u001b[0;34m,\u001b[0m \u001b[0mdl_type\u001b[0m\u001b[0;34m=\u001b[0m\u001b[0;32mNone\u001b[0m\u001b[0;34m,\u001b[0m \u001b[0;34m**\u001b[0m\u001b[0mkwargs\u001b[0m\u001b[0;34m)\u001b[0m\u001b[0;34m:\u001b[0m\u001b[0;34m\u001b[0m\u001b[0;34m\u001b[0m\u001b[0m\n\u001b[1;32m    330\u001b[0m         \u001b[0msuper\u001b[0m\u001b[0;34m(\u001b[0m\u001b[0;34m)\u001b[0m\u001b[0;34m.\u001b[0m\u001b[0m__init__\u001b[0m\u001b[0;34m(\u001b[0m\u001b[0mdl_type\u001b[0m\u001b[0;34m=\u001b[0m\u001b[0mdl_type\u001b[0m\u001b[0;34m)\u001b[0m\u001b[0;34m\u001b[0m\u001b[0;34m\u001b[0m\u001b[0m\n\u001b[0;32m--> 331\u001b[0;31m         \u001b[0mself\u001b[0m\u001b[0;34m.\u001b[0m\u001b[0mtls\u001b[0m \u001b[0;34m=\u001b[0m \u001b[0mL\u001b[0m\u001b[0;34m(\u001b[0m\u001b[0mtls\u001b[0m \u001b[0;32mif\u001b[0m \u001b[0mtls\u001b[0m \u001b[0;32melse\u001b[0m \u001b[0;34m[\u001b[0m\u001b[0mTfmdLists\u001b[0m\u001b[0;34m(\u001b[0m\u001b[0mitems\u001b[0m\u001b[0;34m,\u001b[0m \u001b[0mt\u001b[0m\u001b[0;34m,\u001b[0m \u001b[0;34m**\u001b[0m\u001b[0mkwargs\u001b[0m\u001b[0;34m)\u001b[0m \u001b[0;32mfor\u001b[0m \u001b[0mt\u001b[0m \u001b[0;32min\u001b[0m \u001b[0mL\u001b[0m\u001b[0;34m(\u001b[0m\u001b[0mifnone\u001b[0m\u001b[0;34m(\u001b[0m\u001b[0mtfms\u001b[0m\u001b[0;34m,\u001b[0m\u001b[0;34m[\u001b[0m\u001b[0;32mNone\u001b[0m\u001b[0;34m]\u001b[0m\u001b[0;34m)\u001b[0m\u001b[0;34m)\u001b[0m\u001b[0;34m]\u001b[0m\u001b[0;34m)\u001b[0m\u001b[0;34m\u001b[0m\u001b[0;34m\u001b[0m\u001b[0m\n\u001b[0m\u001b[1;32m    332\u001b[0m         \u001b[0mself\u001b[0m\u001b[0;34m.\u001b[0m\u001b[0mn_inp\u001b[0m \u001b[0;34m=\u001b[0m \u001b[0mifnone\u001b[0m\u001b[0;34m(\u001b[0m\u001b[0mn_inp\u001b[0m\u001b[0;34m,\u001b[0m \u001b[0mmax\u001b[0m\u001b[0;34m(\u001b[0m\u001b[0;36m1\u001b[0m\u001b[0;34m,\u001b[0m \u001b[0mlen\u001b[0m\u001b[0;34m(\u001b[0m\u001b[0mself\u001b[0m\u001b[0;34m.\u001b[0m\u001b[0mtls\u001b[0m\u001b[0;34m)\u001b[0m\u001b[0;34m-\u001b[0m\u001b[0;36m1\u001b[0m\u001b[0;34m)\u001b[0m\u001b[0;34m)\u001b[0m\u001b[0;34m\u001b[0m\u001b[0;34m\u001b[0m\u001b[0m\n\u001b[1;32m    333\u001b[0m \u001b[0;34m\u001b[0m\u001b[0m\n",
      "\u001b[0;32m/opt/conda/lib/python3.7/site-packages/fastai/data/core.py\u001b[0m in \u001b[0;36m<listcomp>\u001b[0;34m(.0)\u001b[0m\n\u001b[1;32m    329\u001b[0m     \u001b[0;32mdef\u001b[0m \u001b[0m__init__\u001b[0m\u001b[0;34m(\u001b[0m\u001b[0mself\u001b[0m\u001b[0;34m,\u001b[0m \u001b[0mitems\u001b[0m\u001b[0;34m=\u001b[0m\u001b[0;32mNone\u001b[0m\u001b[0;34m,\u001b[0m \u001b[0mtfms\u001b[0m\u001b[0;34m=\u001b[0m\u001b[0;32mNone\u001b[0m\u001b[0;34m,\u001b[0m \u001b[0mtls\u001b[0m\u001b[0;34m=\u001b[0m\u001b[0;32mNone\u001b[0m\u001b[0;34m,\u001b[0m \u001b[0mn_inp\u001b[0m\u001b[0;34m=\u001b[0m\u001b[0;32mNone\u001b[0m\u001b[0;34m,\u001b[0m \u001b[0mdl_type\u001b[0m\u001b[0;34m=\u001b[0m\u001b[0;32mNone\u001b[0m\u001b[0;34m,\u001b[0m \u001b[0;34m**\u001b[0m\u001b[0mkwargs\u001b[0m\u001b[0;34m)\u001b[0m\u001b[0;34m:\u001b[0m\u001b[0;34m\u001b[0m\u001b[0;34m\u001b[0m\u001b[0m\n\u001b[1;32m    330\u001b[0m         \u001b[0msuper\u001b[0m\u001b[0;34m(\u001b[0m\u001b[0;34m)\u001b[0m\u001b[0;34m.\u001b[0m\u001b[0m__init__\u001b[0m\u001b[0;34m(\u001b[0m\u001b[0mdl_type\u001b[0m\u001b[0;34m=\u001b[0m\u001b[0mdl_type\u001b[0m\u001b[0;34m)\u001b[0m\u001b[0;34m\u001b[0m\u001b[0;34m\u001b[0m\u001b[0m\n\u001b[0;32m--> 331\u001b[0;31m         \u001b[0mself\u001b[0m\u001b[0;34m.\u001b[0m\u001b[0mtls\u001b[0m \u001b[0;34m=\u001b[0m \u001b[0mL\u001b[0m\u001b[0;34m(\u001b[0m\u001b[0mtls\u001b[0m \u001b[0;32mif\u001b[0m \u001b[0mtls\u001b[0m \u001b[0;32melse\u001b[0m \u001b[0;34m[\u001b[0m\u001b[0mTfmdLists\u001b[0m\u001b[0;34m(\u001b[0m\u001b[0mitems\u001b[0m\u001b[0;34m,\u001b[0m \u001b[0mt\u001b[0m\u001b[0;34m,\u001b[0m \u001b[0;34m**\u001b[0m\u001b[0mkwargs\u001b[0m\u001b[0;34m)\u001b[0m \u001b[0;32mfor\u001b[0m \u001b[0mt\u001b[0m \u001b[0;32min\u001b[0m \u001b[0mL\u001b[0m\u001b[0;34m(\u001b[0m\u001b[0mifnone\u001b[0m\u001b[0;34m(\u001b[0m\u001b[0mtfms\u001b[0m\u001b[0;34m,\u001b[0m\u001b[0;34m[\u001b[0m\u001b[0;32mNone\u001b[0m\u001b[0;34m]\u001b[0m\u001b[0;34m)\u001b[0m\u001b[0;34m)\u001b[0m\u001b[0;34m]\u001b[0m\u001b[0;34m)\u001b[0m\u001b[0;34m\u001b[0m\u001b[0;34m\u001b[0m\u001b[0m\n\u001b[0m\u001b[1;32m    332\u001b[0m         \u001b[0mself\u001b[0m\u001b[0;34m.\u001b[0m\u001b[0mn_inp\u001b[0m \u001b[0;34m=\u001b[0m \u001b[0mifnone\u001b[0m\u001b[0;34m(\u001b[0m\u001b[0mn_inp\u001b[0m\u001b[0;34m,\u001b[0m \u001b[0mmax\u001b[0m\u001b[0;34m(\u001b[0m\u001b[0;36m1\u001b[0m\u001b[0;34m,\u001b[0m \u001b[0mlen\u001b[0m\u001b[0;34m(\u001b[0m\u001b[0mself\u001b[0m\u001b[0;34m.\u001b[0m\u001b[0mtls\u001b[0m\u001b[0;34m)\u001b[0m\u001b[0;34m-\u001b[0m\u001b[0;36m1\u001b[0m\u001b[0;34m)\u001b[0m\u001b[0;34m)\u001b[0m\u001b[0;34m\u001b[0m\u001b[0;34m\u001b[0m\u001b[0m\n\u001b[1;32m    333\u001b[0m \u001b[0;34m\u001b[0m\u001b[0m\n",
      "\u001b[0;32m/opt/conda/lib/python3.7/site-packages/fastcore/foundation.py\u001b[0m in \u001b[0;36m__call__\u001b[0;34m(cls, x, *args, **kwargs)\u001b[0m\n\u001b[1;32m     95\u001b[0m     \u001b[0;32mdef\u001b[0m \u001b[0m__call__\u001b[0m\u001b[0;34m(\u001b[0m\u001b[0mcls\u001b[0m\u001b[0;34m,\u001b[0m \u001b[0mx\u001b[0m\u001b[0;34m=\u001b[0m\u001b[0;32mNone\u001b[0m\u001b[0;34m,\u001b[0m \u001b[0;34m*\u001b[0m\u001b[0margs\u001b[0m\u001b[0;34m,\u001b[0m \u001b[0;34m**\u001b[0m\u001b[0mkwargs\u001b[0m\u001b[0;34m)\u001b[0m\u001b[0;34m:\u001b[0m\u001b[0;34m\u001b[0m\u001b[0;34m\u001b[0m\u001b[0m\n\u001b[1;32m     96\u001b[0m         \u001b[0;32mif\u001b[0m \u001b[0;32mnot\u001b[0m \u001b[0margs\u001b[0m \u001b[0;32mand\u001b[0m \u001b[0;32mnot\u001b[0m \u001b[0mkwargs\u001b[0m \u001b[0;32mand\u001b[0m \u001b[0mx\u001b[0m \u001b[0;32mis\u001b[0m \u001b[0;32mnot\u001b[0m \u001b[0;32mNone\u001b[0m \u001b[0;32mand\u001b[0m \u001b[0misinstance\u001b[0m\u001b[0;34m(\u001b[0m\u001b[0mx\u001b[0m\u001b[0;34m,\u001b[0m\u001b[0mcls\u001b[0m\u001b[0;34m)\u001b[0m\u001b[0;34m:\u001b[0m \u001b[0;32mreturn\u001b[0m \u001b[0mx\u001b[0m\u001b[0;34m\u001b[0m\u001b[0;34m\u001b[0m\u001b[0m\n\u001b[0;32m---> 97\u001b[0;31m         \u001b[0;32mreturn\u001b[0m \u001b[0msuper\u001b[0m\u001b[0;34m(\u001b[0m\u001b[0;34m)\u001b[0m\u001b[0;34m.\u001b[0m\u001b[0m__call__\u001b[0m\u001b[0;34m(\u001b[0m\u001b[0mx\u001b[0m\u001b[0;34m,\u001b[0m \u001b[0;34m*\u001b[0m\u001b[0margs\u001b[0m\u001b[0;34m,\u001b[0m \u001b[0;34m**\u001b[0m\u001b[0mkwargs\u001b[0m\u001b[0;34m)\u001b[0m\u001b[0;34m\u001b[0m\u001b[0;34m\u001b[0m\u001b[0m\n\u001b[0m\u001b[1;32m     98\u001b[0m \u001b[0;34m\u001b[0m\u001b[0m\n\u001b[1;32m     99\u001b[0m \u001b[0;31m# Cell\u001b[0m\u001b[0;34m\u001b[0m\u001b[0;34m\u001b[0m\u001b[0;34m\u001b[0m\u001b[0m\n",
      "\u001b[0;32m/opt/conda/lib/python3.7/site-packages/fastai/data/core.py\u001b[0m in \u001b[0;36m__init__\u001b[0;34m(self, items, tfms, use_list, do_setup, split_idx, train_setup, splits, types, verbose, dl_type)\u001b[0m\n\u001b[1;32m    255\u001b[0m         \u001b[0;32mif\u001b[0m \u001b[0mdo_setup\u001b[0m\u001b[0;34m:\u001b[0m\u001b[0;34m\u001b[0m\u001b[0;34m\u001b[0m\u001b[0m\n\u001b[1;32m    256\u001b[0m             \u001b[0mpv\u001b[0m\u001b[0;34m(\u001b[0m\u001b[0;34mf\"Setting up {self.tfms}\"\u001b[0m\u001b[0;34m,\u001b[0m \u001b[0mverbose\u001b[0m\u001b[0;34m)\u001b[0m\u001b[0;34m\u001b[0m\u001b[0;34m\u001b[0m\u001b[0m\n\u001b[0;32m--> 257\u001b[0;31m             \u001b[0mself\u001b[0m\u001b[0;34m.\u001b[0m\u001b[0msetup\u001b[0m\u001b[0;34m(\u001b[0m\u001b[0mtrain_setup\u001b[0m\u001b[0;34m=\u001b[0m\u001b[0mtrain_setup\u001b[0m\u001b[0;34m)\u001b[0m\u001b[0;34m\u001b[0m\u001b[0;34m\u001b[0m\u001b[0m\n\u001b[0m\u001b[1;32m    258\u001b[0m \u001b[0;34m\u001b[0m\u001b[0m\n\u001b[1;32m    259\u001b[0m     \u001b[0;32mdef\u001b[0m \u001b[0m_new\u001b[0m\u001b[0;34m(\u001b[0m\u001b[0mself\u001b[0m\u001b[0;34m,\u001b[0m \u001b[0mitems\u001b[0m\u001b[0;34m,\u001b[0m \u001b[0msplit_idx\u001b[0m\u001b[0;34m=\u001b[0m\u001b[0;32mNone\u001b[0m\u001b[0;34m,\u001b[0m \u001b[0;34m**\u001b[0m\u001b[0mkwargs\u001b[0m\u001b[0;34m)\u001b[0m\u001b[0;34m:\u001b[0m\u001b[0;34m\u001b[0m\u001b[0;34m\u001b[0m\u001b[0m\n",
      "\u001b[0;32m/opt/conda/lib/python3.7/site-packages/fastai/data/core.py\u001b[0m in \u001b[0;36msetup\u001b[0;34m(self, train_setup)\u001b[0m\n\u001b[1;32m    279\u001b[0m                 \u001b[0mx\u001b[0m \u001b[0;34m=\u001b[0m \u001b[0mf\u001b[0m\u001b[0;34m(\u001b[0m\u001b[0mx\u001b[0m\u001b[0;34m)\u001b[0m\u001b[0;34m\u001b[0m\u001b[0;34m\u001b[0m\u001b[0m\n\u001b[1;32m    280\u001b[0m             \u001b[0mself\u001b[0m\u001b[0;34m.\u001b[0m\u001b[0mtypes\u001b[0m\u001b[0;34m.\u001b[0m\u001b[0mappend\u001b[0m\u001b[0;34m(\u001b[0m\u001b[0mtype\u001b[0m\u001b[0;34m(\u001b[0m\u001b[0mx\u001b[0m\u001b[0;34m)\u001b[0m\u001b[0;34m)\u001b[0m\u001b[0;34m\u001b[0m\u001b[0;34m\u001b[0m\u001b[0m\n\u001b[0;32m--> 281\u001b[0;31m         \u001b[0mtypes\u001b[0m \u001b[0;34m=\u001b[0m \u001b[0mL\u001b[0m\u001b[0;34m(\u001b[0m\u001b[0mt\u001b[0m \u001b[0;32mif\u001b[0m \u001b[0mis_listy\u001b[0m\u001b[0;34m(\u001b[0m\u001b[0mt\u001b[0m\u001b[0;34m)\u001b[0m \u001b[0;32melse\u001b[0m \u001b[0;34m[\u001b[0m\u001b[0mt\u001b[0m\u001b[0;34m]\u001b[0m \u001b[0;32mfor\u001b[0m \u001b[0mt\u001b[0m \u001b[0;32min\u001b[0m \u001b[0mself\u001b[0m\u001b[0;34m.\u001b[0m\u001b[0mtypes\u001b[0m\u001b[0;34m)\u001b[0m\u001b[0;34m.\u001b[0m\u001b[0mconcat\u001b[0m\u001b[0;34m(\u001b[0m\u001b[0;34m)\u001b[0m\u001b[0;34m.\u001b[0m\u001b[0munique\u001b[0m\u001b[0;34m(\u001b[0m\u001b[0;34m)\u001b[0m\u001b[0;34m\u001b[0m\u001b[0;34m\u001b[0m\u001b[0m\n\u001b[0m\u001b[1;32m    282\u001b[0m         \u001b[0mself\u001b[0m\u001b[0;34m.\u001b[0m\u001b[0mpretty_types\u001b[0m \u001b[0;34m=\u001b[0m \u001b[0;34m'\\n'\u001b[0m\u001b[0;34m.\u001b[0m\u001b[0mjoin\u001b[0m\u001b[0;34m(\u001b[0m\u001b[0;34m[\u001b[0m\u001b[0;34mf'  - {t}'\u001b[0m \u001b[0;32mfor\u001b[0m \u001b[0mt\u001b[0m \u001b[0;32min\u001b[0m \u001b[0mtypes\u001b[0m\u001b[0;34m]\u001b[0m\u001b[0;34m)\u001b[0m\u001b[0;34m\u001b[0m\u001b[0;34m\u001b[0m\u001b[0m\n\u001b[1;32m    283\u001b[0m \u001b[0;34m\u001b[0m\u001b[0m\n",
      "\u001b[0;31mTypeError\u001b[0m: 'NoneType' object is not iterable"
     ]
    }
   ],
   "source": [
    "\n",
    "file_path='./input/hotel-id-2021-fgvc8/train_images/90'\n",
    "data = create_dataLoader(work_dir)"
   ]
  },
  {
   "cell_type": "code",
   "execution_count": 15,
   "id": "robust-tradition",
   "metadata": {
    "execution": {
     "iopub.execute_input": "2021-05-19T23:22:48.757227Z",
     "iopub.status.busy": "2021-05-19T23:22:48.756567Z",
     "iopub.status.idle": "2021-05-19T23:22:48.809028Z",
     "shell.execute_reply": "2021-05-19T23:22:48.809600Z"
    },
    "papermill": {
     "duration": 0.078276,
     "end_time": "2021-05-19T23:22:48.809771",
     "exception": false,
     "start_time": "2021-05-19T23:22:48.731495",
     "status": "completed"
    },
    "tags": []
   },
   "outputs": [
    {
     "ename": "NameError",
     "evalue": "name 'data' is not defined",
     "output_type": "error",
     "traceback": [
      "\u001b[0;31m---------------------------------------------------------------------------\u001b[0m",
      "\u001b[0;31mNameError\u001b[0m                                 Traceback (most recent call last)",
      "\u001b[0;32m<ipython-input-15-08d0dd5c9f7c>\u001b[0m in \u001b[0;36m<module>\u001b[0;34m\u001b[0m\n\u001b[0;32m----> 1\u001b[0;31m \u001b[0mdata\u001b[0m\u001b[0;34m.\u001b[0m\u001b[0mshow_batch\u001b[0m\u001b[0;34m(\u001b[0m\u001b[0;34m)\u001b[0m\u001b[0;34m\u001b[0m\u001b[0;34m\u001b[0m\u001b[0m\n\u001b[0m",
      "\u001b[0;31mNameError\u001b[0m: name 'data' is not defined"
     ]
    }
   ],
   "source": [
    "data.show_batch()"
   ]
  },
  {
   "cell_type": "code",
   "execution_count": 16,
   "id": "attached-uzbekistan",
   "metadata": {
    "execution": {
     "iopub.execute_input": "2021-05-19T23:22:48.858650Z",
     "iopub.status.busy": "2021-05-19T23:22:48.858010Z",
     "iopub.status.idle": "2021-05-19T23:22:48.900050Z",
     "shell.execute_reply": "2021-05-19T23:22:48.899491Z"
    },
    "papermill": {
     "duration": 0.067543,
     "end_time": "2021-05-19T23:22:48.900201",
     "exception": false,
     "start_time": "2021-05-19T23:22:48.832658",
     "status": "completed"
    },
    "tags": []
   },
   "outputs": [],
   "source": [
    "def training_models(data, model_name):\n",
    "    lr = 1e-1    \n",
    "    learn = cnn_learner(data,\n",
    "                    models.resnet50,\n",
    "                    metrics=[accuracy, error_rate], \n",
    "                    model_dir=\".\"\n",
    "                   )\n",
    "    learn.fit_one_cycle(1, 1e-2, wd=0.01)\n",
    "    \n",
    "    learn.save(model_name)\n",
    "    \n",
    "    return learn"
   ]
  },
  {
   "cell_type": "code",
   "execution_count": 17,
   "id": "meaningful-juvenile",
   "metadata": {
    "execution": {
     "iopub.execute_input": "2021-05-19T23:22:48.950765Z",
     "iopub.status.busy": "2021-05-19T23:22:48.950154Z",
     "iopub.status.idle": "2021-05-19T23:22:51.277984Z",
     "shell.execute_reply": "2021-05-19T23:22:51.277343Z"
    },
    "papermill": {
     "duration": 2.354784,
     "end_time": "2021-05-19T23:22:51.278123",
     "exception": false,
     "start_time": "2021-05-19T23:22:48.923339",
     "status": "completed"
    },
    "tags": []
   },
   "outputs": [
    {
     "data": {
      "text/plain": [
       "['./submission.csv', './fa_allData_rn50.pth']"
      ]
     },
     "execution_count": 17,
     "metadata": {},
     "output_type": "execute_result"
    }
   ],
   "source": [
    "# model_name ='fa_allData_rn50'\n",
    "from distutils.dir_util import copy_tree\n",
    "fromDir ='../input/data-model/'\n",
    "toDir ='.'\n",
    "copy_tree(fromDir, toDir)\n",
    "# learn = training_models(data, model_name)"
   ]
  },
  {
   "cell_type": "code",
   "execution_count": 18,
   "id": "adult-spain",
   "metadata": {
    "execution": {
     "iopub.execute_input": "2021-05-19T23:22:51.329850Z",
     "iopub.status.busy": "2021-05-19T23:22:51.328902Z",
     "iopub.status.idle": "2021-05-19T23:22:51.368399Z",
     "shell.execute_reply": "2021-05-19T23:22:51.367818Z"
    },
    "papermill": {
     "duration": 0.067027,
     "end_time": "2021-05-19T23:22:51.368535",
     "exception": false,
     "start_time": "2021-05-19T23:22:51.301508",
     "status": "completed"
    },
    "tags": []
   },
   "outputs": [],
   "source": [
    "def load_model():\n",
    "    path = '.'\n",
    "    learn = load_learner(path, 'fa_allData_rn50.pth')\n",
    "    return learn"
   ]
  },
  {
   "cell_type": "markdown",
   "id": "intended-nirvana",
   "metadata": {
    "papermill": {
     "duration": 0.023236,
     "end_time": "2021-05-19T23:22:51.415109",
     "exception": false,
     "start_time": "2021-05-19T23:22:51.391873",
     "status": "completed"
    },
    "tags": []
   },
   "source": [
    "## Predictions"
   ]
  },
  {
   "cell_type": "code",
   "execution_count": 19,
   "id": "afraid-might",
   "metadata": {
    "execution": {
     "iopub.execute_input": "2021-05-19T23:22:51.468351Z",
     "iopub.status.busy": "2021-05-19T23:22:51.467365Z",
     "iopub.status.idle": "2021-05-19T23:22:51.533158Z",
     "shell.execute_reply": "2021-05-19T23:22:51.532445Z"
    },
    "papermill": {
     "duration": 0.09475,
     "end_time": "2021-05-19T23:22:51.533315",
     "exception": false,
     "start_time": "2021-05-19T23:22:51.438565",
     "status": "completed"
    },
    "tags": []
   },
   "outputs": [
    {
     "name": "stdout",
     "output_type": "stream",
     "text": [
      "../input/hotel-id-2021-fgvc8/test_images/b5cc62ab665591a9.jpg\n"
     ]
    },
    {
     "ename": "NameError",
     "evalue": "name 'learn' is not defined",
     "output_type": "error",
     "traceback": [
      "\u001b[0;31m---------------------------------------------------------------------------\u001b[0m",
      "\u001b[0;31mNameError\u001b[0m                                 Traceback (most recent call last)",
      "\u001b[0;32m<ipython-input-19-597f04c8c57d>\u001b[0m in \u001b[0;36m<module>\u001b[0;34m\u001b[0m\n\u001b[1;32m      5\u001b[0m     \u001b[0mtest_img\u001b[0m \u001b[0;34m=\u001b[0m \u001b[0mtest\u001b[0m \u001b[0;34m+\u001b[0m \u001b[0mfolder_list\u001b[0m\u001b[0;34m[\u001b[0m\u001b[0mi\u001b[0m\u001b[0;34m]\u001b[0m\u001b[0;34m\u001b[0m\u001b[0;34m\u001b[0m\u001b[0m\n\u001b[1;32m      6\u001b[0m     \u001b[0mprint\u001b[0m\u001b[0;34m(\u001b[0m\u001b[0mtest_img\u001b[0m\u001b[0;34m)\u001b[0m\u001b[0;34m\u001b[0m\u001b[0;34m\u001b[0m\u001b[0m\n\u001b[0;32m----> 7\u001b[0;31m     \u001b[0mpredict\u001b[0m\u001b[0;34m.\u001b[0m\u001b[0mappend\u001b[0m\u001b[0;34m(\u001b[0m\u001b[0mlearn\u001b[0m\u001b[0;34m.\u001b[0m\u001b[0mpredict\u001b[0m\u001b[0;34m(\u001b[0m\u001b[0mtest_img\u001b[0m\u001b[0;34m,\u001b[0m \u001b[0mwith_input\u001b[0m\u001b[0;34m=\u001b[0m\u001b[0;32mFalse\u001b[0m\u001b[0;34m)\u001b[0m\u001b[0;34m)\u001b[0m\u001b[0;34m\u001b[0m\u001b[0;34m\u001b[0m\u001b[0m\n\u001b[0m",
      "\u001b[0;31mNameError\u001b[0m: name 'learn' is not defined"
     ]
    }
   ],
   "source": [
    "test = '../input/hotel-id-2021-fgvc8/test_images/'\n",
    "predict =[]\n",
    "folder_list = os.listdir(test)\n",
    "for i in range(len(folder_list)):\n",
    "    test_img = test + folder_list[i]\n",
    "    print(test_img)\n",
    "    predict.append(learn.predict(test_img, with_input=False))"
   ]
  },
  {
   "cell_type": "code",
   "execution_count": 20,
   "id": "physical-hungary",
   "metadata": {
    "execution": {
     "iopub.execute_input": "2021-05-19T23:22:51.594482Z",
     "iopub.status.busy": "2021-05-19T23:22:51.585953Z",
     "iopub.status.idle": "2021-05-19T23:22:51.628853Z",
     "shell.execute_reply": "2021-05-19T23:22:51.628309Z"
    },
    "papermill": {
     "duration": 0.071115,
     "end_time": "2021-05-19T23:22:51.629017",
     "exception": false,
     "start_time": "2021-05-19T23:22:51.557902",
     "status": "completed"
    },
    "tags": []
   },
   "outputs": [],
   "source": [
    "sample_submission = pd.read_csv('../input/hotel-id-2021-fgvc8/sample_submission.csv')\n",
    "sample_submission.head()\n",
    "submission = sample_submission.copy()"
   ]
  },
  {
   "cell_type": "code",
   "execution_count": 21,
   "id": "inappropriate-press",
   "metadata": {
    "execution": {
     "iopub.execute_input": "2021-05-19T23:22:51.682923Z",
     "iopub.status.busy": "2021-05-19T23:22:51.682299Z",
     "iopub.status.idle": "2021-05-19T23:22:51.736155Z",
     "shell.execute_reply": "2021-05-19T23:22:51.736755Z"
    },
    "papermill": {
     "duration": 0.083593,
     "end_time": "2021-05-19T23:22:51.736954",
     "exception": false,
     "start_time": "2021-05-19T23:22:51.653361",
     "status": "completed"
    },
    "tags": []
   },
   "outputs": [
    {
     "ename": "IndexError",
     "evalue": "list index out of range",
     "output_type": "error",
     "traceback": [
      "\u001b[0;31m---------------------------------------------------------------------------\u001b[0m",
      "\u001b[0;31mIndexError\u001b[0m                                Traceback (most recent call last)",
      "\u001b[0;32m<ipython-input-21-500c74cf465a>\u001b[0m in \u001b[0;36m<module>\u001b[0;34m\u001b[0m\n\u001b[1;32m      1\u001b[0m \u001b[0msubmission\u001b[0m \u001b[0;34m=\u001b[0m \u001b[0msample_submission\u001b[0m\u001b[0;34m.\u001b[0m\u001b[0mcopy\u001b[0m\u001b[0;34m(\u001b[0m\u001b[0;34m)\u001b[0m\u001b[0;34m\u001b[0m\u001b[0;34m\u001b[0m\u001b[0m\n\u001b[1;32m      2\u001b[0m \u001b[0;32mfor\u001b[0m \u001b[0mi\u001b[0m \u001b[0;32min\u001b[0m \u001b[0mrange\u001b[0m\u001b[0;34m(\u001b[0m\u001b[0mlen\u001b[0m\u001b[0;34m(\u001b[0m\u001b[0msubmission\u001b[0m\u001b[0;34m)\u001b[0m\u001b[0;34m)\u001b[0m\u001b[0;34m:\u001b[0m\u001b[0;34m\u001b[0m\u001b[0;34m\u001b[0m\u001b[0m\n\u001b[0;32m----> 3\u001b[0;31m     \u001b[0mpred\u001b[0m \u001b[0;34m=\u001b[0m\u001b[0mpredict\u001b[0m\u001b[0;34m[\u001b[0m\u001b[0mi\u001b[0m\u001b[0;34m]\u001b[0m\u001b[0;34m\u001b[0m\u001b[0;34m\u001b[0m\u001b[0m\n\u001b[0m\u001b[1;32m      4\u001b[0m     \u001b[0msubmission\u001b[0m\u001b[0;34m.\u001b[0m\u001b[0miloc\u001b[0m\u001b[0;34m[\u001b[0m\u001b[0mi\u001b[0m\u001b[0;34m,\u001b[0m \u001b[0;36m1\u001b[0m\u001b[0;34m:\u001b[0m\u001b[0;34m]\u001b[0m \u001b[0;34m=\u001b[0m \u001b[0mpred\u001b[0m\u001b[0;34m[\u001b[0m\u001b[0;36m1\u001b[0m\u001b[0;34m]\u001b[0m\u001b[0;34m.\u001b[0m\u001b[0mtolist\u001b[0m\u001b[0;34m(\u001b[0m\u001b[0;34m)\u001b[0m\u001b[0;34m\u001b[0m\u001b[0;34m\u001b[0m\u001b[0m\n\u001b[1;32m      5\u001b[0m \u001b[0msubmission\u001b[0m\u001b[0;34m.\u001b[0m\u001b[0mhead\u001b[0m\u001b[0;34m(\u001b[0m\u001b[0;34m)\u001b[0m\u001b[0;34m\u001b[0m\u001b[0;34m\u001b[0m\u001b[0m\n",
      "\u001b[0;31mIndexError\u001b[0m: list index out of range"
     ]
    }
   ],
   "source": [
    "submission = sample_submission.copy()\n",
    "for i in range(len(submission)):\n",
    "    pred =predict[i]\n",
    "    submission.iloc[i, 1:] = pred[1].tolist()\n",
    "submission.head()"
   ]
  },
  {
   "cell_type": "code",
   "execution_count": 22,
   "id": "renewable-workplace",
   "metadata": {
    "execution": {
     "iopub.execute_input": "2021-05-19T23:22:51.789817Z",
     "iopub.status.busy": "2021-05-19T23:22:51.789205Z",
     "iopub.status.idle": "2021-05-19T23:22:51.833018Z",
     "shell.execute_reply": "2021-05-19T23:22:51.832324Z"
    },
    "papermill": {
     "duration": 0.071321,
     "end_time": "2021-05-19T23:22:51.833184",
     "exception": false,
     "start_time": "2021-05-19T23:22:51.761863",
     "status": "completed"
    },
    "tags": []
   },
   "outputs": [],
   "source": [
    "os.chdir(\".\")\n",
    "submission.to_csv(\"submission.csv\", index=False)"
   ]
  },
  {
   "cell_type": "code",
   "execution_count": 23,
   "id": "turkish-heater",
   "metadata": {
    "execution": {
     "iopub.execute_input": "2021-05-19T23:22:51.889342Z",
     "iopub.status.busy": "2021-05-19T23:22:51.888366Z",
     "iopub.status.idle": "2021-05-19T23:22:52.664774Z",
     "shell.execute_reply": "2021-05-19T23:22:52.664112Z"
    },
    "papermill": {
     "duration": 0.806789,
     "end_time": "2021-05-19T23:22:52.664911",
     "exception": false,
     "start_time": "2021-05-19T23:22:51.858122",
     "status": "completed"
    },
    "tags": []
   },
   "outputs": [
    {
     "name": "stdout",
     "output_type": "stream",
     "text": [
      "rm: cannot remove './kaggle/working/train': No such file or directory\r\n"
     ]
    }
   ],
   "source": [
    "rm -r './kaggle/working/train'"
   ]
  }
 ],
 "metadata": {
  "kernelspec": {
   "display_name": "Python 3",
   "language": "python",
   "name": "python3"
  },
  "language_info": {
   "codemirror_mode": {
    "name": "ipython",
    "version": 3
   },
   "file_extension": ".py",
   "mimetype": "text/x-python",
   "name": "python",
   "nbconvert_exporter": "python",
   "pygments_lexer": "ipython3",
   "version": "3.7.10"
  },
  "papermill": {
   "default_parameters": {},
   "duration": 17.599793,
   "end_time": "2021-05-19T23:22:53.600452",
   "environment_variables": {},
   "exception": null,
   "input_path": "__notebook__.ipynb",
   "output_path": "__notebook__.ipynb",
   "parameters": {},
   "start_time": "2021-05-19T23:22:36.000659",
   "version": "2.3.3"
  }
 },
 "nbformat": 4,
 "nbformat_minor": 5
}
